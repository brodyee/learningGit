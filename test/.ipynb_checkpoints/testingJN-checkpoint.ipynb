{
 "cells": [
  {
   "cell_type": "code",
   "execution_count": 2,
   "id": "b015cef9-b39f-4378-9efa-a6ef8f9acce2",
   "metadata": {},
   "outputs": [
    {
     "name": "stdout",
     "output_type": "stream",
     "text": [
      "hello world\n"
     ]
    }
   ],
   "source": [
    "print(\"hello world\")"
   ]
  },
  {
   "cell_type": "markdown",
   "id": "4e3ddd5b-10f1-41b9-825f-fe31d3ed83b8",
   "metadata": {},
   "source": [
    "# Header 1\n",
    "## Hearder 2\n",
    "hjdabvirdew\n"
   ]
  },
  {
   "cell_type": "code",
   "execution_count": null,
   "id": "bcf07df9-6ad8-4385-86cb-5c922b0cd8c5",
   "metadata": {},
   "outputs": [],
   "source": []
  },
  {
   "cell_type": "code",
   "execution_count": null,
   "id": "6109d23b-8f32-4444-8fc0-448d53c0bcc5",
   "metadata": {},
   "outputs": [],
   "source": []
  },
  {
   "cell_type": "code",
   "execution_count": null,
   "id": "ab00af7e-7f5c-42ca-9ae1-1b6ce5a0a9d4",
   "metadata": {},
   "outputs": [],
   "source": []
  }
 ],
 "metadata": {
  "kernelspec": {
   "display_name": "Python 3 (ipykernel)",
   "language": "python",
   "name": "python3"
  },
  "language_info": {
   "codemirror_mode": {
    "name": "ipython",
    "version": 3
   },
   "file_extension": ".py",
   "mimetype": "text/x-python",
   "name": "python",
   "nbconvert_exporter": "python",
   "pygments_lexer": "ipython3",
   "version": "3.11.7"
  }
 },
 "nbformat": 4,
 "nbformat_minor": 5
}
